{
  "nbformat": 4,
  "nbformat_minor": 0,
  "metadata": {
    "colab": {
      "provenance": [],
      "collapsed_sections": []
    },
    "kernelspec": {
      "name": "python3",
      "display_name": "Python 3"
    },
    "language_info": {
      "name": "python"
    }
  },
  "cells": [
    {
      "cell_type": "markdown",
      "source": [
        "# Introduction To Data Science – Assignment 1\n",
        "\n",
        "---\n",
        "\n",
        "### Sections A – B – C – D\n",
        "\n",
        "---\n",
        "\n",
        "***Instructions***\n",
        "\n",
        "Due Date: Sunday 18th September 2022 – 11:59PM\n",
        "\n",
        "Name the file in the format Lyyxxxx and save it as .ipynb (e.g. L201234.ipynb)\n",
        "\n",
        "Submission will be taken on **GitHub and Google Classroom (submit the .ipynb file)** - Instructions to upload onto GitHub are provided in the link https://docs.google.com/document/d/1BR1ULOGeGWJVU6Rr6Qty1FR-quVRZyRvQGII6nEs-wo/edit?usp=sharing\n",
        "\n",
        "After uploading and submitting the .ipynb file onto Google Classroom, also private comment the link to the GitHub repository.\n",
        "\n",
        "All source files needed to complete this assignment can be found on the following Google Drive link https://drive.google.com/drive/folders/1VrkaVcExGWqilSeh50WZe4gUBjmUiJ9b?usp=sharing\n",
        "\n",
        "TA Emails\n",
        "\n",
        "Section A, C - Muhammad Maarij l192347@lhr.nu.edu.pk\n",
        "\n",
        "Section B, D - Hira Ijaz l192377@lhr.nu.edu.pk\n",
        "\n",
        "Happy Coding 😊\n",
        "\n",
        "---"
      ],
      "metadata": {
        "id": "TWWLTwYZorzC"
      }
    },
    {
      "cell_type": "markdown",
      "source": [
        "---\n",
        "## Question 1\n",
        "---"
      ],
      "metadata": {
        "id": "arB_0r9H0jjC"
      }
    },
    {
      "cell_type": "markdown",
      "source": [
        "Define a procedure called \"check_input\" that takes an input as a square list of lists (2D Matrix of N x N) and returns a boolen \"true\" if the input is valid or \"false\" otherwise, according to the following criteria.\n",
        "\n",
        "1. Each coloumn must contain numbers from between 1 and N, with no duplicates.\n",
        "2. Each row must contain numbers from between 1 and N, with no duplicates."
      ],
      "metadata": {
        "id": "qHPTNDy30n99"
      }
    },
    {
      "cell_type": "code",
      "source": [
        "# define procedure here"
      ],
      "metadata": {
        "id": "S2_Zic322Lt7"
      },
      "execution_count": null,
      "outputs": []
    },
    {
      "cell_type": "code",
      "source": [
        "# run this block to test code after defining the procedure\n",
        "\n",
        "test1 = [[1, 2, 3],\n",
        "        [2, 3, 1],\n",
        "        [3, 1, 2]]\n",
        "\n",
        "test2 = [[1, 2, 3, 4],\n",
        "        [2, 3, 1, 3],\n",
        "        [3, 1, 2, 3],\n",
        "        [4, 4, 4, 4]]\n",
        "\n",
        "test3 = [['a', 'b', 'c'],\n",
        "        ['b', 'c', 'a'],\n",
        "        ['c', 'a', 'b']]\n",
        "\n",
        "print(check_input(test1)) # must return true\n",
        "print(check_input(test2)) # must return false\n",
        "print(check_input(test3)) # must return false"
      ],
      "metadata": {
        "id": "wdL9MWgq2ZbP"
      },
      "execution_count": null,
      "outputs": []
    },
    {
      "cell_type": "markdown",
      "source": [
        "---\n",
        "## Question 2\n",
        "---"
      ],
      "metadata": {
        "id": "4RVTlnhWqOUC"
      }
    },
    {
      "cell_type": "markdown",
      "source": [
        "**Part A** - Import the file \"StudentMarkSheet.csv\" as a Pandas DataFrame and print the information for the dataframe"
      ],
      "metadata": {
        "id": "Uyc7JPtNt0pR"
      }
    },
    {
      "cell_type": "code",
      "execution_count": 17,
      "metadata": {
        "id": "wYrt7e6Xop2P",
        "colab": {
          "base_uri": "https://localhost:8080/"
        },
        "outputId": "3b7689a3-ddc0-4619-8c2d-7fea33248121"
      },
      "outputs": [
        {
          "output_type": "stream",
          "name": "stdout",
          "text": [
            "<class 'pandas.core.frame.DataFrame'>\n",
            "RangeIndex: 200 entries, 0 to 199\n",
            "Data columns (total 4 columns):\n",
            " #   Column        Non-Null Count  Dtype  \n",
            "---  ------        --------------  -----  \n",
            " 0   Student name  200 non-null    object \n",
            " 1   Exam name     199 non-null    object \n",
            " 2   Exam date     200 non-null    object \n",
            " 3   Marks         197 non-null    float64\n",
            "dtypes: float64(1), object(3)\n",
            "memory usage: 6.4+ KB\n"
          ]
        }
      ],
      "source": [
        "import pandas as pnd\n",
        "StMarks = pnd.read_csv(\"StudentMarkSheet.csv\")\n",
        "StMarks.info()\n"
      ]
    },
    {
      "cell_type": "markdown",
      "source": [
        "**Part B** - Remove any rows that do not contain all the data. Also print the following information.\n",
        "\n",
        "1. Number of rows before\n",
        "2. Number of rows containing null data\n",
        "3. Number of rows after"
      ],
      "metadata": {
        "id": "jIaMvgcft_i0"
      }
    },
    {
      "cell_type": "code",
      "source": [
        "temp = StMarks.copy()\n",
        "print(\"Num Of Rows = \",len(StMarks))\n",
        "StMarks = StMarks.dropna() #This function drop rows that contain Null Data.\n",
        "null_rows = len(StMarks) - len(temp)\n",
        "print(\"NULL Rows = \",null_rows)\n",
        "print(\"Number Of Rows After = \", len(temp))\n",
        "StMarks = StMarks.reset_index()"
      ],
      "metadata": {
        "id": "_ov_SWdxuZUm",
        "colab": {
          "base_uri": "https://localhost:8080/"
        },
        "outputId": "1328f639-cdff-4474-f630-87f1291094f0"
      },
      "execution_count": 18,
      "outputs": [
        {
          "output_type": "stream",
          "name": "stdout",
          "text": [
            "Num Of Rows =  200\n",
            "NULL Rows =  -4\n",
            "Number Of Rows After =  200\n"
          ]
        }
      ]
    },
    {
      "cell_type": "markdown",
      "source": [
        "**Part C** - Print all the marks along with the subject for the student named \"James Walker\""
      ],
      "metadata": {
        "id": "2kd9zAX6wkXM"
      }
    },
    {
      "cell_type": "code",
      "source": [
        "StMarks.loc[StMarks['Student name'] == 'James Walker'] #loc function locates in file and prints automatically."
      ],
      "metadata": {
        "id": "N0HWJN-PwuSo"
      },
      "execution_count": null,
      "outputs": []
    },
    {
      "cell_type": "markdown",
      "source": [
        "---\n",
        "## Question 3\n",
        "---"
      ],
      "metadata": {
        "id": "ts8Y1EXmwzhf"
      }
    },
    {
      "cell_type": "markdown",
      "source": [
        "**Part A** - From the DataFrame created in Question 2, calculate the average marks for each subject"
      ],
      "metadata": {
        "id": "PJENm_hpw3GQ"
      }
    },
    {
      "cell_type": "code",
      "source": [
        "Biology_Table = StMarks.loc[StMarks['Exam name'] == 'Biology'] \n",
        "\n",
        "Biology_Marks = Biology_Table['Marks'] \n",
        "\n",
        "Biology_Total = 0\n",
        "index = len(Biology_Marks) \n",
        "count = 0 \n",
        "TotalValues = 0 \n",
        "\n",
        "for count in range(index):\n",
        "  TotalValues += 1\n",
        "  Biology_Total = Biology_Total + Biology_Marks[count]\n",
        "\n",
        "Biology_Mean =  Biology_Total/TotalValues\n",
        "print(\"The average Biology marks are :\",Biology_Mean)\n",
        "\n",
        "\n",
        "\n",
        "Chemistry_Table = StMarks.loc[StMarks['Exam name'] == 'Chemistry']\n",
        "\n",
        "Chemistry_Marks = Chemistry_Table['Marks']\n",
        "\n",
        "Chemistry_Total = 0\n",
        "index = index + len(Chemistry_Marks) \n",
        "count = count + 1 \n",
        "TotalValues = 0\n",
        "\n",
        "for count in range(count,index): \n",
        "   TotalValues += 1\n",
        "   Chemistry_Total = Chemistry_Total + Chemistry_Marks[count]\n",
        "\n",
        "Chemistry_Mean = Chemistry_Total/TotalValues\n",
        "print(\"The average Chemistry marks are :\", Chemistry_Mean)\n",
        "\n",
        "\n",
        "\n",
        "Maths_Table = StMarks.loc[StMarks['Exam name'] == 'Mathematics']\n",
        "\n",
        "Maths_Marks = Maths_Table['Marks']\n",
        "\n",
        "Maths_Total = 0\n",
        "index = index + len(Maths_Marks)\n",
        "count = count + 1\n",
        "TotalValues = 0\n",
        "\n",
        "for count in range(count,index):\n",
        "   TotalValues += 1\n",
        "   Maths_Total = Maths_Total + Maths_Marks[count]\n",
        "\n",
        "Maths_Mean = Maths_Total/TotalValues\n",
        "print(\"The average Math marks are :\", Maths_Mean)\n",
        "\n",
        "\n",
        "\n",
        "Philosophy_Table = StMarks.loc[StMarks['Exam name'] == 'Philosophy']\n",
        "\n",
        "Philosophy_Marks = Philosophy_Table['Marks']\n",
        "\n",
        "Philosophy_Total = 0\n",
        "index = index + len(Philosophy_Marks)\n",
        "count = count + 1\n",
        "TotalValues = 0\n",
        "\n",
        "for count in range(count,index):\n",
        "   TotalValues += 1\n",
        "   Philosophy_Total = Philosophy_Total + Philosophy_Marks[count]\n",
        "\n",
        "Philosophy_Mean = Philosophy_Total/TotalValues\n",
        "print(\"The average Philosophy marks are :\", Philosophy_Mean)\n",
        "\n",
        "\n",
        "\n",
        "Physics_Table = StMarks.loc[StMarks['Exam name'] == 'Physics']\n",
        "\n",
        "Physics_Marks = Physics_Table['Marks']\n",
        "\n",
        "PhysicsTotal = 0\n",
        "index = index + len(Physics_Marks)\n",
        "count = count + 1\n",
        "TotalValues = 0\n",
        "\n",
        "for count in range(count,index):\n",
        "  TotalValues+= 1\n",
        "  Physics_Total = Physics_Total + Physics_Marks[count]\n",
        "\n",
        "Physics_Mean = Physics_Total/TotalValues\n",
        "print(\"The average Physics marks are :\", Physics_Mean)\n",
        "\n",
        "\n",
        "\n",
        "Sociology_Table = StMarks.loc[StMarks['Exam name'] == 'Sociology']\n",
        "\n",
        "Sociology_Marks = Sociology_Table['Marks']\n",
        "\n",
        "Sociology_Total = 0\n",
        "index = index + len(Sociology_Marks)\n",
        "count = count + 1\n",
        "TotalValues = 0\n",
        "\n",
        "for count in range(count,index):\n",
        "  TotalValues+= 1\n",
        "  Sociology_Total = Sociology_Total + Sociology_Marks[count]\n",
        "\n",
        "Sociology_Mean = Sociology_Total/TotalValues\n",
        "print(\"The average Sociology marks are :\", Sociology_Mean)\n"
      ],
      "metadata": {
        "id": "AxhCtST5xS3L",
        "colab": {
          "base_uri": "https://localhost:8080/",
          "height": 304
        },
        "outputId": "1c100b3e-a2c5-43e7-d852-3ef1501cb7d9"
      },
      "execution_count": 19,
      "outputs": [
        {
          "output_type": "stream",
          "name": "stdout",
          "text": [
            "The average Biology marks are : 47.89473684210526\n",
            "The average Chemistry marks are : 50.57692307692308\n",
            "The average Math marks are : 48.97222222222222\n",
            "The average Philosophy marks are : 47.270270270270274\n"
          ]
        },
        {
          "output_type": "error",
          "ename": "NameError",
          "evalue": "ignored",
          "traceback": [
            "\u001b[0;31m---------------------------------------------------------------------------\u001b[0m",
            "\u001b[0;31mNameError\u001b[0m                                 Traceback (most recent call last)",
            "\u001b[0;32m<ipython-input-19-84f803c35288>\u001b[0m in \u001b[0;36m<module>\u001b[0;34m\u001b[0m\n\u001b[1;32m     82\u001b[0m \u001b[0;32mfor\u001b[0m \u001b[0mcount\u001b[0m \u001b[0;32min\u001b[0m \u001b[0mrange\u001b[0m\u001b[0;34m(\u001b[0m\u001b[0mcount\u001b[0m\u001b[0;34m,\u001b[0m\u001b[0mindex\u001b[0m\u001b[0;34m)\u001b[0m\u001b[0;34m:\u001b[0m\u001b[0;34m\u001b[0m\u001b[0;34m\u001b[0m\u001b[0m\n\u001b[1;32m     83\u001b[0m   \u001b[0mTotalValues\u001b[0m\u001b[0;34m+=\u001b[0m \u001b[0;36m1\u001b[0m\u001b[0;34m\u001b[0m\u001b[0;34m\u001b[0m\u001b[0m\n\u001b[0;32m---> 84\u001b[0;31m   \u001b[0mPhysics_Total\u001b[0m \u001b[0;34m=\u001b[0m \u001b[0mPhysics_Total\u001b[0m \u001b[0;34m+\u001b[0m \u001b[0mPhysics_Marks\u001b[0m\u001b[0;34m[\u001b[0m\u001b[0mcount\u001b[0m\u001b[0;34m]\u001b[0m\u001b[0;34m\u001b[0m\u001b[0;34m\u001b[0m\u001b[0m\n\u001b[0m\u001b[1;32m     85\u001b[0m \u001b[0;34m\u001b[0m\u001b[0m\n\u001b[1;32m     86\u001b[0m \u001b[0mPhysics_Mean\u001b[0m \u001b[0;34m=\u001b[0m \u001b[0mPhysics_Total\u001b[0m\u001b[0;34m/\u001b[0m\u001b[0mTotalValues\u001b[0m\u001b[0;34m\u001b[0m\u001b[0;34m\u001b[0m\u001b[0m\n",
            "\u001b[0;31mNameError\u001b[0m: name 'Physics_Total' is not defined"
          ]
        }
      ]
    },
    {
      "cell_type": "markdown",
      "source": [
        "**Part B** - Using the averages you just calculated, plot a Bar Graph showing the average marks of each subject"
      ],
      "metadata": {
        "id": "NDlaA7hHxUBc"
      }
    },
    {
      "cell_type": "code",
      "source": [],
      "metadata": {
        "id": "LWoPFZBOyyNn"
      },
      "execution_count": null,
      "outputs": []
    },
    {
      "cell_type": "markdown",
      "source": [
        "---\n",
        "## Question 4\n",
        "---"
      ],
      "metadata": {
        "id": "dWlOSOIs6d1R"
      }
    },
    {
      "cell_type": "markdown",
      "source": [
        "**Part A** - Import the file \"CatData.csv\" and preprocess it to remove any null values"
      ],
      "metadata": {
        "id": "b4s-pN4v6kgb"
      }
    },
    {
      "cell_type": "code",
      "source": [
        "import pandas as pnd\n",
        "Cat = pnd.read_csv(\"CatData.csv\")\n",
        "Cat = Cat.dropna()\n",
        "Cat = Cat.reset_index()\n"
      ],
      "metadata": {
        "id": "mvZ3xrBV9b1s"
      },
      "execution_count": null,
      "outputs": []
    },
    {
      "cell_type": "markdown",
      "source": [
        "**Part B** - Identify the independant and dependant variables (comment answer below)"
      ],
      "metadata": {
        "id": "bWxuB3ep9SWA"
      }
    },
    {
      "cell_type": "code",
      "source": [
        "# dependant variable: Tail\n",
        "# independant variable: Mass "
      ],
      "metadata": {
        "id": "TS9tvuRt9cWr"
      },
      "execution_count": null,
      "outputs": []
    },
    {
      "cell_type": "markdown",
      "source": [
        "**Part C** - Create a linear regression model using sklearn and fit it to the data you just imported\n"
      ],
      "metadata": {
        "id": "xPHVA3cX7uk9"
      }
    },
    {
      "cell_type": "code",
      "source": [
        "from sklearn import linear_model\n"
      ],
      "metadata": {
        "id": "WYVNRotH9cyo"
      },
      "execution_count": null,
      "outputs": []
    },
    {
      "cell_type": "markdown",
      "source": [
        "**Part D** - Print the values for slope and y-intercept"
      ],
      "metadata": {
        "id": "0QMipKhb830G"
      }
    },
    {
      "cell_type": "code",
      "source": [],
      "metadata": {
        "id": "R7cvi3KB9dJh"
      },
      "execution_count": null,
      "outputs": []
    },
    {
      "cell_type": "markdown",
      "source": [
        "**Part E** - Plot a scatter graph of the original data and a regression line on the same figure (example with dummy data shown below)\n",
        "\n",
        "![](https://drive.google.com/uc?export=view&id=1o_NAsNjfx7zAh9m-UjvWB3rta6uraKdY)"
      ],
      "metadata": {
        "id": "IIq-BQYp_i33"
      }
    },
    {
      "cell_type": "code",
      "source": [],
      "metadata": {
        "id": "jhz8gTYt_lCn"
      },
      "execution_count": null,
      "outputs": []
    }
  ]
}